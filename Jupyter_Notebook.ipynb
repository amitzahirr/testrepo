{
 "cells": [
  {
   "cell_type": "markdown",
   "metadata": {},
   "source": [
    "<center>\n",
    "    <img src=\"https://cf-courses-data.s3.us.cloud-object-storage.appdomain.cloud/IBMDeveloperSkillsNetwork-DS0105EN-SkillsNetwork/labs/Module2/images/SN_web_lightmode.png\" width=\"300\" alt=\"cognitiveclass.ai logo\"  />\n",
    "</center>\n"
   ]
  },
  {
   "cell_type": "markdown",
   "metadata": {},
   "source": [
    "#### Add your code below following the instructions given in the course\n"
   ]
  },
  {
   "cell_type": "markdown",
   "metadata": {},
   "source": [
    "# My Jupyter Notebook on IBM Watson Studio"
   ]
  },
  {
   "cell_type": "markdown",
   "metadata": {},
   "source": [
    "**Amit Ramnarain**\n",
    "Scientist"
   ]
  },
  {
   "cell_type": "markdown",
   "metadata": {},
   "source": [
    "*I am interested in data science because I want to learn tools to help me do more science. "
   ]
  },
  {
   "cell_type": "markdown",
   "metadata": {},
   "source": [
    "### I am following the code presented in Coding the Mind Maps in Python https://youtu.be/86l7DE-0sHw "
   ]
  },
  {
   "cell_type": "code",
   "execution_count": 1,
   "metadata": {},
   "outputs": [
    {
     "name": "stdin",
     "output_type": "stream",
     "text": [
      "What protein would you like today? Beef or Chicken? Beef\n",
      "Why do you want Beef? nutrients, fats fats\n"
     ]
    },
    {
     "name": "stdout",
     "output_type": "stream",
     "text": [
      "Beef has more saturated fats.\n"
     ]
    }
   ],
   "source": [
    "region = input('What protein would you like today? Beef or Chicken?')\n",
    "if region == 'Beef':\n",
    "    want_Beef = input('Why do you want Beef? nutrients, fats')\n",
    "    if want_Beef == 'nutirents' :\n",
    "        print('Beef is contains more zinc and iron than chicken.')\n",
    "    elif want_Beef == 'fats':\n",
    "        print('Beef has more saturated fats.')\n",
    "elif region == 'Chicken':\n",
    "    want_Chicken = input('Why do you want Chicken? cardiovascular health, fats')\n",
    "    if want_Chicken == 'cardiovascular health':\n",
    "        print('chicken is much better for your cardiovascular health, because it has less cholesterol and saturated fat than beef.')\n",
    "    elif want_Chicken == 'fats':\n",
    "        print('Beef has more saturated fats.')"
   ]
  },
  {
   "cell_type": "markdown",
   "metadata": {},
   "source": [
    "<hr>\n"
   ]
  },
  {
   "cell_type": "markdown",
   "metadata": {},
   "source": [
    "1. Fish\n",
    "1. chicken\n",
    "1. Beef"
   ]
  },
  {
   "cell_type": "markdown",
   "metadata": {},
   "source": [
    "-   Fish\n",
    "-   Eggs\n",
    "-   Cheese"
   ]
  },
  {
   "cell_type": "code",
   "execution_count": null,
   "metadata": {},
   "outputs": [],
   "source": []
  }
 ],
 "metadata": {
  "kernelspec": {
   "display_name": "Python",
   "language": "python",
   "name": "conda-env-python-py"
  },
  "language_info": {
   "codemirror_mode": {
    "name": "ipython",
    "version": 3
   },
   "file_extension": ".py",
   "mimetype": "text/x-python",
   "name": "python",
   "nbconvert_exporter": "python",
   "pygments_lexer": "ipython3",
   "version": "3.7.12"
  }
 },
 "nbformat": 4,
 "nbformat_minor": 4
}
